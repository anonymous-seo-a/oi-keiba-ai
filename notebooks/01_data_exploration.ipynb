{
 "cells": [
  {
   "cell_type": "markdown",
   "metadata": {},
   "source": [
    "# 大井競馬データ探索ノートブック\n",
    "\n",
    "このノートブックでは、収集した大井競馬のデータを探索・分析します。"
   ]
  },
  {
   "cell_type": "code",
   "execution_count": null,
   "metadata": {},
   "outputs": [],
   "source": [
    "import sys\n",
    "from pathlib import Path\n",
    "import pandas as pd\n",
    "import numpy as np\n",
    "import matplotlib.pyplot as plt\n",
    "import seaborn as sns\n",
    "\n",
    "# プロジェクトルートをパスに追加\n",
    "sys.path.append(str(Path.cwd().parent))\n",
    "\n",
    "from src.data_collection.database import OiKeibaDatabase\n",
    "\n",
    "# 日本語フォント設定\n",
    "plt.rcParams['font.family'] = 'DejaVu Sans'\n",
    "sns.set_style('whitegrid')\n",
    "\n",
    "# データベース接続\n",
    "db = OiKeibaDatabase()\n",
    "print('データベースに接続しました')"
   ]
  },
  {
   "cell_type": "markdown",
   "metadata": {},
   "source": [
    "## データの基本情報"
   ]
  },
  {
   "cell_type": "code",
   "execution_count": null,
   "metadata": {},
   "outputs": [],
   "source": [
    "# データ読み込み\n",
    "df = db.get_race_data()\n",
    "\n",
    "print(f'総レコード数: {len(df):,}')\n",
    "print(f'期間: {df[\"race_date\"].min()} ～ {df[\"race_date\"].max()}')\n",
    "print(f'ユニークレース数: {df[\"race_id\"].nunique():,}')\n",
    "print(f'ユニーク馬数: {df[\"horse_name\"].nunique():,}')\n",
    "\n",
    "# データの概要\n",
    "df.info()"
   ]
  },
  {
   "cell_type": "code",
   "execution_count": null,
   "metadata": {},
   "outputs": [],
   "source": [
    "# 最初の数行を表示\n",
    "df.head()"
   ]
  },
  {
   "cell_type": "markdown",
   "metadata": {},
   "source": [
    "## 欠損値の確認"
   ]
  },
  {
   "cell_type": "code",
   "execution_count": null,
   "metadata": {},
   "outputs": [],
   "source": [
    "# 欠損値の確認\n",
    "missing_data = df.isnull().sum()\n",
    "missing_percent = 100 * missing_data / len(df)\n",
    "\n",
    "missing_table = pd.DataFrame({\n",
    "    '欠損数': missing_data,\n",
    "    '欠損率(%)': missing_percent\n",
    "})\n",
    "\n",
    "missing_table[missing_table['欠損数'] > 0].sort_values('欠損数', ascending=False)"
   ]
  },
  {
   "cell_type": "markdown",
   "metadata": {},
   "source": [
    "## 基本統計"
   ]
  },
  {
   "cell_type": "code",
   "execution_count": null,
   "metadata": {},
   "outputs": [],
   "source": [
    "# 数値データの基本統計\n",
    "numeric_columns = ['course_length', 'finish_position', 'horse_weight', 'odds', 'popularity']\n",
    "df[numeric_columns].describe()"
   ]
  },
  {
   "cell_type": "markdown",
   "metadata": {},
   "source": [
    "## データ可視化"
   ]
  },
  {
   "cell_type": "code",
   "execution_count": null,
   "metadata": {},
   "outputs": [],
   "source": [
    "# 着順分布\n",
    "plt.figure(figsize=(12, 6))\n",
    "\n",
    "plt.subplot(1, 2, 1)\n",
    "df['finish_position'].hist(bins=16, alpha=0.7, color='skyblue', edgecolor='black')\n",
    "plt.title('着順分布')\n",
    "plt.xlabel('着順')\n",
    "plt.ylabel('頻度')\n",
    "\n",
    "plt.subplot(1, 2, 2)\n",
    "df['popularity'].hist(bins=16, alpha=0.7, color='lightcoral', edgecolor='black')\n",
    "plt.title('人気分布')\n",
    "plt.xlabel('人気')\n",
    "plt.ylabel('頻度')\n",
    "\n",
    "plt.tight_layout()\n",
    "plt.show()"
   ]
  },
  {
   "cell_type": "code",
   "execution_count": null,
   "metadata": {},
   "outputs": [],
   "source": [
    "# オッズ分布（対数スケール）\n",
    "plt.figure(figsize=(10, 6))\n",
    "\n",
    "# 異常値を除外\n",
    "odds_filtered = df[(df['odds'] > 0) & (df['odds'] <= 100)]['odds']\n",
    "\n",
    "plt.hist(odds_filtered, bins=50, alpha=0.7, color='gold', edgecolor='black')\n",
    "plt.title('オッズ分布')\n",
    "plt.xlabel('オッズ')\n",
    "plt.ylabel('頻度')\n",
    "plt.yscale('log')\n",
    "plt.show()"
   ]
  },
  {
   "cell_type": "code",
   "execution_count": null,
   "metadata": {},
   "outputs": [],
   "source": [
    "# 人気と着順の関係\n",
    "plt.figure(figsize=(12, 8))\n",
    "\n",
    "# 散布図\n",
    "plt.subplot(2, 2, 1)\n",
    "plt.scatter(df['popularity'], df['finish_position'], alpha=0.5)\n",
    "plt.title('人気 vs 着順')\n",
    "plt.xlabel('人気')\n",
    "plt.ylabel('着順')\n",
    "\n",
    "# 人気別平均着順\n",
    "plt.subplot(2, 2, 2)\n",
    "popularity_avg = df.groupby('popularity')['finish_position'].mean()\n",
    "popularity_avg.plot(kind='bar', color='lightblue')\n",
    "plt.title('人気別平均着順')\n",
    "plt.xlabel('人気')\n",
    "plt.ylabel('平均着順')\n",
    "plt.xticks(rotation=45)\n",
    "\n",
    "# 人気別勝率\n",
    "plt.subplot(2, 2, 3)\n",
    "win_rate_by_popularity = df.groupby('popularity').apply(\n",
    "    lambda x: (x['finish_position'] == 1).sum() / len(x) * 100\n",
    ")\n",
    "win_rate_by_popularity.plot(kind='bar', color='lightgreen')\n",
    "plt.title('人気別勝率')\n",
    "plt.xlabel('人気')\n",
    "plt.ylabel('勝率 (%)')\n",
    "plt.xticks(rotation=45)\n",
    "\n",
    "# コース距離分布\n",
    "plt.subplot(2, 2, 4)\n",
    "df['course_length'].value_counts().sort_index().plot(kind='bar', color='orange')\n",
    "plt.title('コース距離分布')\n",
    "plt.xlabel('距離 (m)')\n",
    "plt.ylabel('レース数')\n",
    "plt.xticks(rotation=45)\n",
    "\n",
    "plt.tight_layout()\n",
    "plt.show()"
   ]
  },
  {
   "cell_type": "markdown",
   "metadata": {},
   "source": [
    "## 騎手・調教師分析"
   ]
  },
  {
   "cell_type": "code",
   "execution_count": null,
   "metadata": {},
   "outputs": [],
   "source": [
    "# 騎手別成績（上位10名）\n",
    "jockey_stats = df.groupby('jockey_name').agg({\n",
    "    'finish_position': ['count', 'mean'],\n",
    "    'horse_name': lambda x: (df.loc[x.index, 'finish_position'] == 1).sum()\n",
    "}).round(2)\n",
    "\n",
    "jockey_stats.columns = ['出走数', '平均着順', '勝利数']\n",
    "jockey_stats['勝率'] = (jockey_stats['勝利数'] / jockey_stats['出走数'] * 100).round(1)\n",
    "\n",
    "# 最低出走数でフィルタリング\n",
    "min_races = 20\n",
    "top_jockeys = jockey_stats[jockey_stats['出走数'] >= min_races].sort_values('勝率', ascending=False).head(10)\n",
    "\n",
    "print('騎手別成績（上位10名）')\n",
    "print(top_jockeys)"
   ]
  },
  {
   "cell_type": "code",
   "execution_count": null,
   "metadata": {},
   "outputs": [],
   "source": [
    "# 調教師別成績（上位10名）\n",
    "trainer_stats = df.groupby('trainer_name').agg({\n",
    "    'finish_position': ['count', 'mean'],\n",
    "    'horse_name': lambda x: (df.loc[x.index, 'finish_position'] == 1).sum()\n",
    "}).round(2)\n",
    "\n",
    "trainer_stats.columns = ['出走数', '平均着順', '勝利数']\n",
    "trainer_stats['勝率'] = (trainer_stats['勝利数'] / trainer_stats['出走数'] * 100).round(1)\n",
    "\n",
    "# 最低出走数でフィルタリング\n",
    "top_trainers = trainer_stats[trainer_stats['出走数'] >= min_races].sort_values('勝率', ascending=False).head(10)\n",
    "\n",
    "print('調教師別成績（上位10名）')\n",
    "print(top_trainers)"
   ]
  },
  {
   "cell_type": "markdown",
   "metadata": {},
   "source": [
    "## 馬体重と成績の関係"
   ]
  },
  {
   "cell_type": "code",
   "execution_count": null,
   "metadata": {},
   "outputs": [],
   "source": [
    "# 馬体重を区間に分けて分析\n",
    "df_weight = df[df['horse_weight'] > 0].copy()\n",
    "df_weight['weight_category'] = pd.cut(df_weight['horse_weight'], \n",
    "                                    bins=[0, 450, 480, 510, 1000], \n",
    "                                    labels=['軽量', '標準', '重量', '超重量'])\n",
    "\n",
    "weight_analysis = df_weight.groupby('weight_category').agg({\n",
    "    'finish_position': 'mean',\n",
    "    'horse_name': lambda x: (df_weight.loc[x.index, 'finish_position'] == 1).sum() / len(x) * 100\n",
    "}).round(2)\n",
    "\n",
    "weight_analysis.columns = ['平均着順', '勝率(%)']\n",
    "print('馬体重別成績')\n",
    "print(weight_analysis)"
   ]
  },
  {
   "cell_type": "markdown",
   "metadata": {},
   "source": [
    "## 天候・馬場状態の影響"
   ]
  },
  {
   "cell_type": "code",
   "execution_count": null,
   "metadata": {},
   "outputs": [],
   "source": [
    "# 天候別分析\n",
    "if 'weather' in df.columns and df['weather'].notna().any():\n",
    "    weather_analysis = df.groupby('weather').agg({\n",
    "        'finish_position': ['count', 'mean']\n",
    "    }).round(2)\n",
    "    \n",
    "    weather_analysis.columns = ['レース数', '平均着順']\n",
    "    print('天候別分析')\n",
    "    print(weather_analysis)\n",
    "else:\n",
    "    print('天候データがありません')\n",
    "\n",
    "# 馬場状態別分析\n",
    "if 'track_condition' in df.columns and df['track_condition'].notna().any():\n",
    "    track_analysis = df.groupby('track_condition').agg({\n",
    "        'finish_position': ['count', 'mean']\n",
    "    }).round(2)\n",
    "    \n",
    "    track_analysis.columns = ['レース数', '平均着順']\n",
    "    print('\n馬場状態別分析')\n",
    "    print(track_analysis)\n",
    "else:\n",
    "    print('馬場状態データがありません')"
   ]
  },
  {
   "cell_type": "markdown",
   "metadata": {},
   "source": [
    "## まとめ\n",
    "\n",
    "このノートブックでの分析結果をもとに、以下の特徴量が予想に有効であることが分かりました：\n",
    "\n",
    "1. **人気**: 人気と着順には強い相関がある\n",
    "2. **騎手・調教師**: 成績に差がある\n",
    "3. **馬体重**: 適正体重がある可能性\n",
    "4. **コース距離**: 馬の得意距離がある\n",
    "5. **オッズ**: 市場の評価を反映\n",
    "\n",
    "次のステップ：\n",
    "- より詳細な特徴量エンジニアリング\n",
    "- 馬の過去成績を考慮した特徴量\n",
    "- 時系列要素を考慮した分析"
   ]
  }
 ],
 "metadata": {
  "kernelspec": {
   "display_name": "Python 3",
   "language": "python",
   "name": "python3"
  },
  "language_info": {
   "codemirror_mode": {
    "name": "ipython",
    "version": 3
   },
   "file_extension": ".py",
   "mimetype": "text/x-python",
   "name": "python",
   "nbconvert_exporter": "python",
   "pygments_lexer": "ipython3",
   "version": "3.9.0"
  }
 },
 "nbformat": 4,
 "nbformat_minor": 4
}
